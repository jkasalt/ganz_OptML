{
 "cells": [
  {
   "cell_type": "code",
   "execution_count": 2,
   "id": "dac4f459",
   "metadata": {},
   "outputs": [],
   "source": [
    "%matplotlib inline\n",
    "import numpy as np\n",
    "import matplotlib.pyplot as plt\n",
    "import math"
   ]
  },
  {
   "cell_type": "markdown",
   "id": "f4958854",
   "metadata": {},
   "source": [
    "# Minimax on a convex/concave function"
   ]
  },
  {
   "cell_type": "markdown",
   "id": "c43f6d62",
   "metadata": {},
   "source": [
    "We define the loss functions $L(x,y)$ below, together with $F(x,y) = [\\nabla L_x, -\\nabla L_y]$"
   ]
  },
  {
   "cell_type": "markdown",
   "id": "f0541dfc",
   "metadata": {},
   "source": [
    "Define $z = [x,y]$ where $x, y \\in \\mathbb{R}^n$, so that $z \\in \\mathbb{R}^{2n}$ and $A \\in \\mathbb{R}^{n\\times n}$"
   ]
  },
  {
   "cell_type": "markdown",
   "id": "3c9d6dd5",
   "metadata": {},
   "source": [
    "x²-y²:"
   ]
  },
  {
   "cell_type": "code",
   "execution_count": 113,
   "id": "80a01833",
   "metadata": {},
   "outputs": [],
   "source": [
    "# z = (x,y)\n",
    "def L(z):\n",
    "    return z[0]**2 - z[1]**2\n",
    "\n",
    "def F(z):\n",
    "    return np.array([2*z[0], 2*z[1]])"
   ]
  },
  {
   "cell_type": "markdown",
   "id": "25334d6d",
   "metadata": {},
   "source": [
    "0.5x² + 2xy - 0.5y²"
   ]
  },
  {
   "cell_type": "code",
   "execution_count": 1,
   "id": "ca153099",
   "metadata": {},
   "outputs": [],
   "source": [
    "# z = 0.5x² +2xy -0.5y²\n",
    "def L(z):\n",
    "    return 0.5*z[0]**2 +2*z[0]*z[1] - 0.5*z[1]**2\n",
    "\n",
    "def F(z):\n",
    "    return np.array([z[0]+2*z[1], -2*z[0]+z[1]])"
   ]
  },
  {
   "cell_type": "markdown",
   "id": "8c1337e2",
   "metadata": {},
   "source": [
    "0.5x² + xy - 0.5y²"
   ]
  },
  {
   "cell_type": "code",
   "execution_count": 108,
   "id": "4b36d48b",
   "metadata": {},
   "outputs": [],
   "source": [
    "# z = 0.5x² +xy -0.5y²\n",
    "def L(z):\n",
    "    return 0.5*z[0]**2 +z[0]*z[1] - 0.5*z[1]**2\n",
    "\n",
    "def F(z):\n",
    "    return np.array([z[0]+z[1], -z[0]+z[1]])"
   ]
  },
  {
   "cell_type": "markdown",
   "id": "1acde1df",
   "metadata": {},
   "source": [
    "0.5x² + 3xy - 0.5y²"
   ]
  },
  {
   "cell_type": "code",
   "execution_count": 5,
   "id": "1efc58e8",
   "metadata": {},
   "outputs": [],
   "source": [
    "# z = 0.5x² +3xy -0.5y²\n",
    "def L(z):\n",
    "    return 0.5*z[0]**2 +3*z[0]*z[1] - 0.5*z[1]**2\n",
    "\n",
    "def F(z):\n",
    "    return np.array([z[0]+3*z[1], -3*z[0]+z[1]])"
   ]
  },
  {
   "cell_type": "markdown",
   "id": "7337269b",
   "metadata": {},
   "source": [
    "0.5x² + 4xy - 0.5y²"
   ]
  },
  {
   "cell_type": "code",
   "execution_count": 6,
   "id": "eae25525",
   "metadata": {},
   "outputs": [],
   "source": [
    "# z = 0.5x² +4xy -0.5y²\n",
    "def L(z):\n",
    "    return 0.5*z[0]**2 +4*z[0]*z[1] - 0.5*z[1]**2\n",
    "\n",
    "def F(z):\n",
    "    return np.array([z[0]+4*z[1], -4*z[0]+z[1]])"
   ]
  },
  {
   "cell_type": "markdown",
   "id": "d1bdc46d",
   "metadata": {},
   "source": [
    "exp(x) - exp(y) + exp(-x) - exp(-y)"
   ]
  },
  {
   "cell_type": "code",
   "execution_count": 116,
   "id": "96bdd3ef",
   "metadata": {},
   "outputs": [],
   "source": [
    "# exp\n",
    "def L(z):\n",
    "    return np.float64(math.exp(z[0]) - math.exp(z[1]) + math.exp(-z[0]) - math.exp(-z[1]))\n",
    "\n",
    "def F(z):\n",
    "    return np.array([np.float64(math.exp(z[0]) - math.exp(-z[0])) , np.float64(  math.exp(z[1]) - math.exp(-z[1]))])"
   ]
  },
  {
   "cell_type": "markdown",
   "id": "4f1f18a6",
   "metadata": {},
   "source": [
    "-cos(x) + cos(y)"
   ]
  },
  {
   "cell_type": "code",
   "execution_count": 119,
   "id": "a9f0e503",
   "metadata": {},
   "outputs": [],
   "source": [
    "def L(z):\n",
    "    return -math.cos(z[0]) + math.cos(z[1])\n",
    "\n",
    "def F(z):\n",
    "    return np.array([ math.sin(z[0]) , math.sin(z[1]) ])"
   ]
  },
  {
   "cell_type": "markdown",
   "id": "53d089cb",
   "metadata": {},
   "source": [
    "Function to display the graph:"
   ]
  },
  {
   "cell_type": "code",
   "execution_count": 3,
   "id": "8894065b",
   "metadata": {},
   "outputs": [],
   "source": [
    "def plot_trajectory(points, update_directions, max_iters, title, nb_arrows = 10, line_color = 'b'):\n",
    "    \"\"\"Plot the trajectory in the x-y plane of a DTA. \n",
    "        INPUT:\n",
    "            points: list of np.array, each corresponding to one point at one iteration\n",
    "            grads : list of np.array, each corresponding to the direction to the next iterate\"\"\"\n",
    "            \n",
    "    xs = [z[0] for z in points]\n",
    "    ys = [z[1] for z in points]\n",
    "    plt.rcParams[\"figure.figsize\"] = (8,8)\n",
    "    plt.scatter(xs[0], ys[0], color = 'r', lw = 3, label = \"Starting point\")\n",
    "    plt.scatter(0, 0, color = 'k', lw = 2, label = \"Minimum point\", marker='*')\n",
    "    plt.plot(xs, ys, color = line_color, label = 'Trajectory')\n",
    "\n",
    "    # Add gradient arrows\n",
    "    scale = 0.2\n",
    "    x_grads = [z[0] for z in update_directions]\n",
    "    y_grads = [z[1] for z in update_directions]\n",
    "    for i in range(0, max_iters, int(max_iters/nb_arrows)):\n",
    "        plt.arrow(xs[i], ys[i], scale*x_grads[i], scale*y_grads[i], lw = 1.5, head_width = 0.05, color = line_color)\n",
    "\n",
    "    ax_lim = 4\n",
    "    plt.xlim(-ax_lim,ax_lim)\n",
    "    plt.ylim(-ax_lim,ax_lim)\n",
    "    plt.legend(loc = 'upper right')\n",
    "    if title is not None:\n",
    "        plt.suptitle(title) "
   ]
  },
  {
   "cell_type": "markdown",
   "id": "ee72f8fa",
   "metadata": {},
   "source": [
    "# GDA"
   ]
  },
  {
   "cell_type": "markdown",
   "id": "c1176798",
   "metadata": {},
   "source": [
    "$ z' = z - sF(z)$"
   ]
  },
  {
   "cell_type": "code",
   "execution_count": 4,
   "id": "fa76d337",
   "metadata": {},
   "outputs": [],
   "source": [
    "def GDA(z0, gamma, max_iters, plot = True):\n",
    "    \"\"\"Gradient Descent Ascent algorithm\"\"\"\n",
    "    points = []\n",
    "    update_directions = []\n",
    "\n",
    "    z = np.copy(z0)\n",
    "    #timer = time.time()\n",
    "    for n_iter in range(max_iters):\n",
    "        points.append(np.copy(z))\n",
    "        # Compute update direction\n",
    "        update_direction = -F(z)\n",
    "        update_directions.append(np.copy(update_direction))\n",
    "\n",
    "        # Update z with the algorithm\n",
    "        z += gamma * update_direction\n",
    "    print(points[len(points)-1])\n",
    "    if plot:\n",
    "        plot_trajectory(points, update_directions, max_iters, title = 'GDA trajectory for L(x,y) = xy', line_color='b')\n",
    "\n",
    "    return points, update_directions"
   ]
  },
  {
   "cell_type": "code",
   "execution_count": 5,
   "id": "4582d6f0",
   "metadata": {},
   "outputs": [
    {
     "name": "stdout",
     "output_type": "stream",
     "text": [
      "[-0.00011381  0.00043918]\n"
     ]
    },
    {
     "data": {
      "image/png": "[encoded data removed]",
      "text/plain": [
       "<Figure size 576x576 with 1 Axes>"
      ]
     },
     "metadata": {
      "needs_background": "light"
     },
     "output_type": "display_data"
    }
   ],
   "source": [
    "z0 = np.array([1.0,1.0])\n",
    "gamma = 0.3\n",
    "max_iters = 100\n",
    "\n",
    "points, update_directions = GDA(z0, gamma, max_iters)"
   ]
  },
  {
   "cell_type": "markdown",
   "id": "bd3be094",
   "metadata": {},
   "source": [
    "# EGM"
   ]
  },
  {
   "cell_type": "markdown",
   "id": "3f6276b1",
   "metadata": {},
   "source": [
    "$z' = z_t - sF(z_t), z_t = z - sF(z)$"
   ]
  },
  {
   "cell_type": "code",
   "execution_count": 6,
   "id": "50ba0384",
   "metadata": {},
   "outputs": [],
   "source": [
    "def EGM(z0, gamma, max_iters, plot = True):\n",
    "    \"\"\"Extra Gradient Method\"\"\"\n",
    "    points = []\n",
    "    update_directions = []\n",
    "\n",
    "    z = np.copy(z0)\n",
    "    z_t = np.copy(z0)\n",
    "    \n",
    "    #timer = time.time()\n",
    "    for n_iter in range(max_iters):\n",
    "        points.append(np.copy(z))\n",
    "        # Update intermediary point\n",
    "        grad_z = F(z)\n",
    "        z_t = z - gamma*grad_z\n",
    "\n",
    "        # Update next point\n",
    "        update_direction = -F(z_t)\n",
    "        z += gamma*update_direction\n",
    "\n",
    "        update_directions.append(np.copy(update_direction))\n",
    "    print(points[len(points)-1]) \n",
    "\n",
    "    if plot:\n",
    "        plot_trajectory(points, update_directions, max_iters, 'EGM trajectory for L(x,y) = xy', nb_arrows = 15, line_color='g')\n",
    "\n",
    "    return points, update_directions"
   ]
  },
  {
   "cell_type": "code",
   "execution_count": 7,
   "id": "1cfce0bd",
   "metadata": {},
   "outputs": [
    {
     "name": "stdout",
     "output_type": "stream",
     "text": [
      "[7.50249997e-31 9.81063546e-31]\n"
     ]
    },
    {
     "data": {
      "image/png": "[encoded data removed]",
      "text/plain": [
       "<Figure size 576x576 with 1 Axes>"
      ]
     },
     "metadata": {
      "needs_background": "light"
     },
     "output_type": "display_data"
    }
   ],
   "source": [
    "z0 = np.array([2.5,2.5])\n",
    "gamma = 0.3\n",
    "max_iters = 100\n",
    "\n",
    "points, update_directions = EGM(z0, gamma, max_iters)"
   ]
  },
  {
   "cell_type": "markdown",
   "id": "8dd54994",
   "metadata": {},
   "source": [
    "# OGDA"
   ]
  },
  {
   "cell_type": "markdown",
   "id": "f62c7a06",
   "metadata": {},
   "source": [
    "$z'' = z' - 2sF(z') + sF(z)$"
   ]
  },
  {
   "cell_type": "code",
   "execution_count": 8,
   "id": "b1f629fb",
   "metadata": {},
   "outputs": [],
   "source": [
    "def OGDA(z0, gamma, max_iters, plot = True):\n",
    "    \"\"\"Optimistic Gradient Descent Ascent Method\"\"\"\n",
    "    points = []\n",
    "    update_directions = []\n",
    "\n",
    "    z = np.copy(z0)\n",
    "    \n",
    "    # First iteration\n",
    "    points.append(np.copy(z))\n",
    "    # Compute update direction\n",
    "    update_direction = -F(z)\n",
    "    update_directions.append(np.copy(update_direction))\n",
    "\n",
    "    # Update z with the algorithm\n",
    "    z += gamma * update_direction\n",
    "\n",
    "    # Rest of the iterations\n",
    "    for n_iter in range(1,max_iters):\n",
    "        points.append(np.copy(z))\n",
    "        # Update next iterate point\n",
    "        grad_z = F(z)\n",
    "        grad_z_minus_1 = F(points[n_iter - 1])\n",
    "\n",
    "        update_direction = -2 * grad_z + grad_z_minus_1\n",
    "        update_directions.append(update_direction)\n",
    "\n",
    "        z += gamma*update_direction\n",
    "    \n",
    "    if plot:\n",
    "        plot_trajectory(points, update_directions, max_iters, 'OGDA trajectory for L(x,y) = xy', nb_arrows = 15, line_color='orange')\n",
    "\n",
    "    return points, update_directions"
   ]
  },
  {
   "cell_type": "code",
   "execution_count": 9,
   "id": "6b2a55ee",
   "metadata": {},
   "outputs": [
    {
     "data": {
      "image/png": "[encoded data removed]",
      "text/plain": [
       "<Figure size 576x576 with 1 Axes>"
      ]
     },
     "metadata": {
      "needs_background": "light"
     },
     "output_type": "display_data"
    }
   ],
   "source": [
    "z0 = np.array([2.,2.])\n",
    "gamma = 0.1\n",
    "max_iters = 50\n",
    "\n",
    "points, update_directions = OGDA(z0, gamma, max_iters)"
   ]
  },
  {
   "cell_type": "markdown",
   "id": "700a4908",
   "metadata": {},
   "source": [
    "# Jacobian Method \n",
    "$z' = z + s\\nabla F(z) F(z)$"
   ]
  },
  {
   "cell_type": "code",
   "execution_count": 10,
   "id": "5c97d24b",
   "metadata": {},
   "outputs": [],
   "source": [
    "def Grad_F(z):\n",
    "    return np.array([[1, 2],[-2, 1]])"
   ]
  },
  {
   "cell_type": "code",
   "execution_count": 115,
   "id": "3cf90bcf",
   "metadata": {},
   "outputs": [],
   "source": [
    "def Grad_F(z):\n",
    "    return np.array([[np.float64(math.exp(z[0]) + math.exp(-z[0])), 0.],[0.,np.float64(math.exp(z[1])+math.exp(-z[1]))]])"
   ]
  },
  {
   "cell_type": "code",
   "execution_count": 118,
   "id": "37778aeb",
   "metadata": {},
   "outputs": [],
   "source": [
    "def Grad_F(z):\n",
    "    return np.array([[-math.cos(z[0]), 0.],[0.,-math.cos(z[0])]])"
   ]
  },
  {
   "cell_type": "code",
   "execution_count": 11,
   "id": "625c87a5",
   "metadata": {},
   "outputs": [],
   "source": [
    "def JM(z0, gamma, max_iters, plot = True):\n",
    "    \"\"\"Jacobian Method\"\"\"\n",
    "    points = []\n",
    "    update_directions = []\n",
    "\n",
    "    z = np.copy(z0)\n",
    "    \n",
    "    for n_iter in range(max_iters):\n",
    "        points.append(np.copy(z))\n",
    "        # Update next iterate point\n",
    "        grad_z = F(z)\n",
    "        grad_F = Grad_F(z)\n",
    "\n",
    "        update_direction = grad_F @ grad_z\n",
    "        \n",
    "        update_directions.append(update_direction)\n",
    "\n",
    "        z += gamma*update_direction\n",
    "    print(points[len(points)-1])\n",
    "    if plot:\n",
    "        plot_trajectory(points, update_directions, max_iters, 'JM trajectory for L(x,y) = xy', nb_arrows = 2, line_color='yellow')\n",
    "\n",
    "    return points, update_directions"
   ]
  },
  {
   "cell_type": "code",
   "execution_count": 14,
   "id": "842b0e37",
   "metadata": {},
   "outputs": [
    {
     "name": "stdout",
     "output_type": "stream",
     "text": [
      "[-9.55851681e-06 -2.04424497e-05]\n"
     ]
    },
    {
     "data": {
      "image/png": "[encoded data removed]",
      "text/plain": [
       "<Figure size 576x576 with 1 Axes>"
      ]
     },
     "metadata": {
      "needs_background": "light"
     },
     "output_type": "display_data"
    }
   ],
   "source": [
    "z0 = np.array([1.0,1.0])\n",
    "gamma = 0.2\n",
    "max_iters = 100\n",
    "\n",
    "points, update_directions = JM(z0, gamma, max_iters)"
   ]
  },
  {
   "cell_type": "markdown",
   "id": "830e5c2d",
   "metadata": {},
   "source": [
    "# Ploting all methods"
   ]
  },
  {
   "cell_type": "code",
   "execution_count": 15,
   "id": "bc7317bc",
   "metadata": {},
   "outputs": [],
   "source": [
    "def compare_all_methods(z0, gamma, max_iters):\n",
    "    z_gda, updts_gda = GDA(z0, gamma, max_iters, False)\n",
    "    z_egm, updts_egm = EGM(z0, gamma, max_iters, False)\n",
    "    z_ogda, updts_ogda = OGDA(z0, gamma, max_iters, False)\n",
    "    z_jm, updts_jm = JM(z0, gamma, max_iters, False)\n",
    "\n",
    "    zs = [z_gda, z_egm, z_ogda, z_jm]\n",
    "    colors = ['b', 'g', 'orange', 'r']\n",
    "    titles = ['GDA', 'EGM', 'OGDA', 'JM']\n",
    "\n",
    "    plt.scatter(z0[0], z0[1], color = 'r', lw = 3, label = \"Starting point\")\n",
    "    plt.scatter(0, 0, color = 'k', lw = 2, label = \"Minimum point\", marker='*')\n",
    "\n",
    "    for i in range(len(zs)):\n",
    "        points = zs[i]\n",
    "        xs = [z[0] for z in points]\n",
    "        ys = [z[1] for z in points]\n",
    "        plt.rcParams[\"figure.figsize\"] = (8,8)\n",
    "        plt.plot(xs, ys, color = colors[i], label = f'{titles[i]}')\n",
    "    \n",
    "    ax_lim = 4\n",
    "    plt.xlim(-ax_lim,ax_lim)\n",
    "    plt.ylim(-ax_lim,ax_lim)"
   ]
  },
  {
   "cell_type": "code",
   "execution_count": 16,
   "id": "0f842edc",
   "metadata": {},
   "outputs": [
    {
     "name": "stdout",
     "output_type": "stream",
     "text": [
      "[-3.27079195e-05  1.52936269e-05]\n",
      "[-1.94784983e-14  3.58781988e-15]\n",
      "[-1.52936269e-05 -3.27079195e-05]\n"
     ]
    },
    {
     "data": {
      "image/png": "[encoded data removed]",
      "text/plain": [
       "<Figure size 576x576 with 1 Axes>"
      ]
     },
     "metadata": {
      "needs_background": "light"
     },
     "output_type": "display_data"
    }
   ],
   "source": [
    "z0 = np.array([1.6,1.6])\n",
    "gamma = 0.2\n",
    "max_iters = 100\n",
    "compare_all_methods(z0, gamma, max_iters)"
   ]
  }
 ],
 "metadata": {
  "kernelspec": {
   "display_name": "Python 3 (ipykernel)",
   "language": "python",
   "name": "python3"
  },
  "language_info": {
   "codemirror_mode": {
    "name": "ipython",
    "version": 3
   },
   "file_extension": ".py",
   "mimetype": "text/x-python",
   "name": "python",
   "nbconvert_exporter": "python",
   "pygments_lexer": "ipython3",
   "version": "3.9.7"
  }
 },
 "nbformat": 4,
 "nbformat_minor": 5
}
