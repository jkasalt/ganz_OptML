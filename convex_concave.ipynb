{
 "cells": [
  {
   "cell_type": "code",
   "execution_count": 1,
   "id": "dac4f459",
   "metadata": {},
   "outputs": [],
   "source": [
    "%matplotlib inline\n",
    "import numpy as np\n",
    "import matplotlib.pyplot as plt"
   ]
  },
  {
   "cell_type": "markdown",
   "id": "f4958854",
   "metadata": {},
   "source": [
    "# Minimax on a convex/concave function"
   ]
  },
  {
   "cell_type": "markdown",
   "id": "3c9d6dd5",
   "metadata": {},
   "source": [
    "x²-y²"
   ]
  },
  {
   "cell_type": "code",
   "execution_count": 36,
   "id": "80a01833",
   "metadata": {},
   "outputs": [],
   "source": [
    "# z = (x,y)\n",
    "def L(z):\n",
    "    return z[0]**2 - z[1]**2\n",
    "\n",
    "def F(z):\n",
    "    return np.array([2*z[0], 2*z[1]])"
   ]
  },
  {
   "cell_type": "code",
   "execution_count": 37,
   "id": "8894065b",
   "metadata": {},
   "outputs": [],
   "source": [
    "def plot_trajectory(points, update_directions, max_iters, title, nb_arrows = 10, line_color = 'b'):\n",
    "    \"\"\"Plot the trajectory in the x-y plane of a DTA. \n",
    "        INPUT:\n",
    "            points: list of np.array, each corresponding to one point at one iteration\n",
    "            grads : list of np.array, each corresponding to the direction to the next iterate\"\"\"\n",
    "            \n",
    "    xs = [z[0] for z in points]\n",
    "    ys = [z[1] for z in points]\n",
    "    plt.rcParams[\"figure.figsize\"] = (8,8)\n",
    "    plt.scatter(xs[0], ys[0], color = 'r', lw = 3, label = \"Starting point\")\n",
    "    plt.scatter(0, 0, color = 'k', lw = 2, label = \"Minimum point\", marker='*')\n",
    "    plt.plot(xs, ys, color = line_color, label = 'Trajectory')\n",
    "\n",
    "    # Add gradient arrows\n",
    "    scale = 0.2\n",
    "    x_grads = [z[0] for z in update_directions]\n",
    "    y_grads = [z[1] for z in update_directions]\n",
    "    for i in range(0, max_iters, int(max_iters/nb_arrows)):\n",
    "        plt.arrow(xs[i], ys[i], scale*x_grads[i], scale*y_grads[i], lw = 1.5, head_width = 0.05, color = line_color)\n",
    "\n",
    "    ax_lim = 4\n",
    "    plt.xlim(-ax_lim,ax_lim)\n",
    "    plt.ylim(-ax_lim,ax_lim)\n",
    "    plt.legend(loc = 'upper right')\n",
    "    if title is not None:\n",
    "        plt.suptitle(title) "
   ]
  },
  {
   "cell_type": "markdown",
   "id": "ee72f8fa",
   "metadata": {},
   "source": [
    "# GDA"
   ]
  },
  {
   "cell_type": "code",
   "execution_count": 54,
   "id": "fa76d337",
   "metadata": {},
   "outputs": [],
   "source": [
    "def GDA(z0, gamma, max_iters, plot = True):\n",
    "    \"\"\"Gradient Descent Ascent algorithm\"\"\"\n",
    "    points = []\n",
    "    update_directions = []\n",
    "\n",
    "    z = np.copy(z0)\n",
    "    #timer = time.time()\n",
    "    for n_iter in range(max_iters):\n",
    "        points.append(np.copy(z))\n",
    "        # Compute update direction\n",
    "        update_direction = -F(z)\n",
    "        update_directions.append(np.copy(update_direction))\n",
    "\n",
    "        # Update z with the algorithm\n",
    "        z += gamma * update_direction\n",
    "    print(points[len(points)-1])\n",
    "    #print(timer)\n",
    "    if plot:\n",
    "        plot_trajectory(points, update_directions, max_iters, title = 'GDA trajectory for L(x,y) = xy', line_color='b')\n",
    "\n",
    "    return points, update_directions"
   ]
  },
  {
   "cell_type": "code",
   "execution_count": 56,
   "id": "4582d6f0",
   "metadata": {},
   "outputs": [
    {
     "name": "stdout",
     "output_type": "stream",
     "text": [
      "[1.51115727e-16 1.51115727e-16]\n"
     ]
    },
    {
     "data": {
      "image/png": "[encoded data removed]",
      "text/plain": [
       "<Figure size 576x576 with 1 Axes>"
      ]
     },
     "metadata": {
      "needs_background": "light"
     },
     "output_type": "display_data"
    }
   ],
   "source": [
    "z0 = np.array([0.5,.5])\n",
    "gamma = 0.3\n",
    "max_iters = 40\n",
    "\n",
    "points, update_directions = GDA(z0, gamma, max_iters)"
   ]
  },
  {
   "cell_type": "markdown",
   "id": "bd3be094",
   "metadata": {},
   "source": [
    "# EGM"
   ]
  },
  {
   "cell_type": "code",
   "execution_count": 40,
   "id": "50ba0384",
   "metadata": {},
   "outputs": [],
   "source": [
    "def EGM(z0, gamma, max_iters, plot = True):\n",
    "    \"\"\"Extra Gradient Method\"\"\"\n",
    "    points = []\n",
    "    update_directions = []\n",
    "\n",
    "    z = np.copy(z0)\n",
    "    z_t = np.copy(z0)\n",
    "    \n",
    "    #timer = time.time()\n",
    "    for n_iter in range(max_iters):\n",
    "        points.append(np.copy(z))\n",
    "        # Update intermediary point\n",
    "        grad_z = F(z)\n",
    "        z_t = z - gamma*grad_z\n",
    "\n",
    "        # Update next point\n",
    "        update_direction = -F(z_t)\n",
    "        z += gamma*update_direction\n",
    "\n",
    "        update_directions.append(np.copy(update_direction))\n",
    "    print(points[len(points)-1]) \n",
    "    #print(timer)\n",
    "\n",
    "    if plot:\n",
    "        plot_trajectory(points, update_directions, max_iters, 'EGM trajectory for L(x,y) = xy', nb_arrows = 15, line_color='g')\n",
    "\n",
    "    return points, update_directions"
   ]
  },
  {
   "cell_type": "code",
   "execution_count": 41,
   "id": "1cfce0bd",
   "metadata": {},
   "outputs": [
    {
     "name": "stdout",
     "output_type": "stream",
     "text": [
      "[7.9344283e-13 7.9344283e-13]\n"
     ]
    },
    {
     "data": {
      "image/png": "[encoded data removed]",
      "text/plain": [
       "<Figure size 576x576 with 1 Axes>"
      ]
     },
     "metadata": {
      "needs_background": "light"
     },
     "output_type": "display_data"
    }
   ],
   "source": [
    "z0 = np.array([.5,.5])\n",
    "gamma = 0.3\n",
    "max_iters = 100\n",
    "\n",
    "points, update_directions = EGM(z0, gamma, max_iters)"
   ]
  },
  {
   "cell_type": "markdown",
   "id": "8dd54994",
   "metadata": {},
   "source": [
    "# OGDA"
   ]
  },
  {
   "cell_type": "code",
   "execution_count": 42,
   "id": "b1f629fb",
   "metadata": {},
   "outputs": [],
   "source": [
    "def OGDA(z0, gamma, max_iters, plot = True):\n",
    "    \"\"\"Optimistic Gradient Descent Ascent Method\"\"\"\n",
    "    points = []\n",
    "    update_directions = []\n",
    "\n",
    "    z = np.copy(z0)\n",
    "    \n",
    "    # First iteration\n",
    "    points.append(np.copy(z))\n",
    "    # Compute update direction\n",
    "    update_direction = -F(z)\n",
    "    update_directions.append(np.copy(update_direction))\n",
    "\n",
    "    # Update z with the algorithm\n",
    "    z += gamma * update_direction\n",
    "\n",
    "    # Rest of the iterations\n",
    "    #timer = time.time()\n",
    "    for n_iter in range(1,max_iters):\n",
    "        points.append(np.copy(z))\n",
    "        # Update next iterate point\n",
    "        grad_z = F(z)\n",
    "        grad_z_minus_1 = F(points[n_iter - 1])\n",
    "\n",
    "        update_direction = -2 * grad_z + grad_z_minus_1\n",
    "        update_directions.append(update_direction)\n",
    "\n",
    "        z += gamma*update_direction\n",
    "    print(points[len(points)-1])\n",
    "    #print(timer)\n",
    "    \n",
    "    if plot:\n",
    "        plot_trajectory(points, update_directions, max_iters, 'OGDA trajectory for L(x,y) = xy', nb_arrows = 15, line_color='orange')\n",
    "\n",
    "    return points, update_directions"
   ]
  },
  {
   "cell_type": "code",
   "execution_count": 44,
   "id": "6b2a55ee",
   "metadata": {},
   "outputs": [
    {
     "name": "stdout",
     "output_type": "stream",
     "text": [
      "[0.52 0.52]\n",
      "[0.136 0.136]\n",
      "[0.2848 0.2848]\n",
      "[0.02464 0.02464]\n",
      "[0.165952 0.165952]\n",
      "[-0.0184064 -0.0184064]\n",
      "[0.10325248 0.10325248]\n",
      "[-0.03169434 -0.03169434]\n",
      "[0.06829036 0.06829036]\n",
      "[-0.03267467 -0.03267467]\n",
      "[0.04750915 0.04750915]\n",
      "[-0.02910663 -0.02910663]\n",
      "[0.03432682 0.03432682]\n",
      "[-0.02432934 -0.02432934]\n",
      "[0.02546196 0.02546196]\n",
      "[-0.01969 -0.01969]\n",
      "[0.01921517 0.01921517]\n",
      "[-0.01565703 -0.01565703]\n",
      "[0.01466051 0.01466051]\n",
      "[-0.01232632 -0.01232632]\n",
      "[0.01126157 0.01126157]\n",
      "[-0.00964811 -0.00964811]\n",
      "[0.00868656 0.00868656]\n",
      "[-0.00752618 -0.00752618]\n",
      "[0.00671717 0.00671717]\n",
      "[-0.00585914 -0.00585914]\n",
      "[0.00520213 0.00520213]\n",
      "[-0.00455591 -0.00455591]\n",
      "[0.00403246 0.00403246]\n",
      "[-0.00354004 -0.00354004]\n",
      "[0.00312748 0.00312748]\n",
      "[-0.00274952 -0.00274952]\n",
      "[0.0024264 0.0024264]\n",
      "[-0.00213499 -0.00213499]\n",
      "[0.00188284 0.00188284]\n",
      "[-0.00165756 -0.00165756]\n",
      "[0.00146121 0.00146121]\n",
      "[-0.00128678 -0.00128678]\n",
      "[0.00113408 0.00113408]\n",
      "[-0.00099888 -0.00099888]\n",
      "[0.00088023 0.00088023]\n",
      "[-0.00077538 -0.00077538]\n",
      "[0.00068321 0.00068321]\n",
      "[-0.00060187 -0.00060187]\n",
      "[0.0005303 0.0005303]\n",
      "[-0.00046718 -0.00046718]\n",
      "[0.00041162 0.00041162]\n",
      "[-0.00036263 -0.00036263]\n",
      "[0.0003195 0.0003195]\n",
      "[-0.00036263 -0.00036263]\n"
     ]
    },
    {
     "data": {
      "image/png": "[encoded data removed]",
      "text/plain": [
       "<Figure size 576x576 with 1 Axes>"
      ]
     },
     "metadata": {
      "needs_background": "light"
     },
     "output_type": "display_data"
    }
   ],
   "source": [
    "z0 = np.array([1.,1.])\n",
    "gamma = 0.3\n",
    "max_iters = 50\n",
    "\n",
    "points, update_directions = OGDA(z0, gamma, max_iters)"
   ]
  },
  {
   "cell_type": "markdown",
   "id": "700a4908",
   "metadata": {},
   "source": [
    "# Jacobian method"
   ]
  },
  {
   "cell_type": "code",
   "execution_count": 51,
   "id": "5c97d24b",
   "metadata": {},
   "outputs": [],
   "source": [
    "def Grad_F(z):\n",
    "    return np.array([[2, 0],[0, 2]])"
   ]
  },
  {
   "cell_type": "code",
   "execution_count": 52,
   "id": "625c87a5",
   "metadata": {},
   "outputs": [],
   "source": [
    "def JM(z0, gamma, max_iters, plot = True):\n",
    "    \"\"\"Jacobian Method\"\"\"\n",
    "    points = []\n",
    "    update_directions = []\n",
    "\n",
    "    z = np.copy(z0)\n",
    "    \n",
    "    #timer = time.time()\n",
    "    for n_iter in range(max_iters):\n",
    "        points.append(np.copy(z))\n",
    "        # Update next iterate point\n",
    "        grad_z = F(z)\n",
    "        grad_F = Grad_F(z)\n",
    "\n",
    "        update_direction = grad_F @ grad_z\n",
    "        update_directions.append(update_direction)\n",
    "\n",
    "        z += gamma*update_direction\n",
    "    print(points[len(points)-1])\n",
    "    #print(timer)\n",
    "    \n",
    "    if plot:\n",
    "        plot_trajectory(points, update_directions, max_iters, 'JM trajectory for L(x,y) = xy', nb_arrows = 2, line_color='yellow')\n",
    "\n",
    "    return points, update_directions"
   ]
  },
  {
   "cell_type": "code",
   "execution_count": 53,
   "id": "842b0e37",
   "metadata": {},
   "outputs": [
    {
     "name": "stdout",
     "output_type": "stream",
     "text": [
      "[7.94045523e+33 7.94045523e+33]\n"
     ]
    },
    {
     "data": {
      "image/png": "[encoded data removed]",
      "text/plain": [
       "<Figure size 576x576 with 1 Axes>"
      ]
     },
     "metadata": {
      "needs_background": "light"
     },
     "output_type": "display_data"
    }
   ],
   "source": [
    "z0 = np.array([1.,1.])\n",
    "gamma = 0.3\n",
    "max_iters = 100\n",
    "\n",
    "points, update_directions = JM(z0, gamma, max_iters)"
   ]
  },
  {
   "cell_type": "code",
   "execution_count": null,
   "id": "618b771c",
   "metadata": {},
   "outputs": [],
   "source": []
  }
 ],
 "metadata": {
  "kernelspec": {
   "display_name": "Python 3 (ipykernel)",
   "language": "python",
   "name": "python3"
  },
  "language_info": {
   "codemirror_mode": {
    "name": "ipython",
    "version": 3
   },
   "file_extension": ".py",
   "mimetype": "text/x-python",
   "name": "python",
   "nbconvert_exporter": "python",
   "pygments_lexer": "ipython3",
   "version": "3.9.7"
  }
 },
 "nbformat": 4,
 "nbformat_minor": 5
}
